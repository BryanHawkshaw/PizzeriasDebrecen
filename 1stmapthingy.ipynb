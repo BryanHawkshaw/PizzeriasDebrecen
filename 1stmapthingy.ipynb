{
 "cells": [
  {
   "cell_type": "code",
   "execution_count": 1,
   "metadata": {},
   "outputs": [],
   "source": [
    "#import libraries\n",
    "\n",
    "import googlemaps\n",
    "import pandas as pd\n",
    "import time\n",
    "\n"
   ]
  },
  {
   "cell_type": "code",
   "execution_count": 2,
   "metadata": {},
   "outputs": [],
   "source": [
    "#define function converting miles to meters\n",
    "\n",
    "def miles_to_meters(miles):\n",
    "    try:\n",
    "        return miles * 1_600.344\n",
    "    except:\n",
    "        return 0"
   ]
  },
  {
   "cell_type": "code",
   "execution_count": 3,
   "metadata": {},
   "outputs": [],
   "source": [
    "#storing API Key\n",
    "\n",
    "API_KEY = 'yourapikey'\n",
    "map_client = googlemaps.Client(API_KEY)"
   ]
  },
  {
   "cell_type": "code",
   "execution_count": 4,
   "metadata": {},
   "outputs": [],
   "source": [
    "#storing location and indicating what businesses you want to find. \n",
    "# Also creating empty list of businesses matching search string.\n",
    "\n",
    "location = (47.531927529036274, 21.628423941296678)\n",
    "search_string = 'pizza'\n",
    "distance = miles_to_meters(20)\n",
    "business_list = []"
   ]
  },
  {
   "cell_type": "code",
   "execution_count": 5,
   "metadata": {},
   "outputs": [],
   "source": [
    "response = map_client.places_nearby(\n",
    "    location = location,\n",
    "    keyword = search_string,\n",
    "    radius = distance\n",
    ")"
   ]
  },
  {
   "cell_type": "code",
   "execution_count": 6,
   "metadata": {},
   "outputs": [],
   "source": [
    "#adding results to the list\n",
    "\n",
    "business_list.extend(response.get('results'))\n",
    "next_page_token = response.get('next_page_token')"
   ]
  },
  {
   "cell_type": "code",
   "execution_count": 7,
   "metadata": {},
   "outputs": [],
   "source": [
    "while next_page_token:\n",
    "    time.sleep(2)\n",
    "    response = map_client.places_nearby(\n",
    "    location = location,\n",
    "    keyword = search_string,\n",
    "    radius = distance,\n",
    "    page_token = next_page_token\n",
    ")\n",
    "    business_list.extend(response.get('results'))\n",
    "    next_page_token = response.get('next_page_token')"
   ]
  },
  {
   "cell_type": "code",
   "execution_count": 8,
   "metadata": {},
   "outputs": [],
   "source": [
    "#storing results in a dataframe\n",
    "\n",
    "df = pd.DataFrame(business_list)\n",
    "df['url'] = 'https://www.google.com/maps/place/?q=place_id:' + df['place_id']"
   ]
  },
  {
   "cell_type": "code",
   "execution_count": 9,
   "metadata": {},
   "outputs": [],
   "source": [
    "#exporting to excel\n",
    "\n",
    "df.to_excel('pizza store.xlsx', index=False)"
   ]
  },
  {
   "cell_type": "code",
   "execution_count": null,
   "metadata": {},
   "outputs": [],
   "source": []
  }
 ],
 "metadata": {
  "kernelspec": {
   "display_name": "myenv",
   "language": "python",
   "name": "python3"
  },
  "language_info": {
   "codemirror_mode": {
    "name": "ipython",
    "version": 3
   },
   "file_extension": ".py",
   "mimetype": "text/x-python",
   "name": "python",
   "nbconvert_exporter": "python",
   "pygments_lexer": "ipython3",
   "version": "3.12.3"
  }
 },
 "nbformat": 4,
 "nbformat_minor": 2
}
